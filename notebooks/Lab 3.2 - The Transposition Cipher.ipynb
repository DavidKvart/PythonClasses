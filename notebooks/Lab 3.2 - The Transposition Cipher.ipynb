{
 "cells": [
  {
   "cell_type": "markdown",
   "id": "2055c3f5",
   "metadata": {},
   "source": [
    "# Lab 3.02 - The Transposition Cipher\n",
    "\n",
    "The transposition cipher is a method of encrypting plaintext by rearranging the positions of its characters without changing the actual characters themselves. In other words, it is a form of encryption that relies on changing the order of characters in a message while keeping the characters themselves unchanged.\".\n",
    "\n",
    "The transposition cipher can be implemented in various ways, but the basic idea is to rearrange the characters in a predefined pattern or scheme. \n",
    "\n",
    "In this lab we will watch one implementation such implementation in Python. There are, however two differences in comparison to the Ceasar ciphers of previous lab. \n",
    "- The amount of keys possibles are growing with the length of the text\n",
    "- The function to decrypt a transposition cipher is different than the one that encrypts\n",
    "\n",
    "That's why in this lab, we'll only provide you with the encryption function. Can you write a corresponding decryption function that can decipher the secret message?\n",
    "\n",
    "Good luck!\n"
   ]
  },
  {
   "cell_type": "markdown",
   "id": "6529804d",
   "metadata": {},
   "source": [
    "## Implementation of Transposition Cipher\n",
    "The following code provides the encryption function for the transposition cipher. "
   ]
  },
  {
   "cell_type": "code",
   "execution_count": null,
   "id": "5b12de95",
   "metadata": {},
   "outputs": [],
   "source": [
    "def transposition_cipher(text, key):\n",
    "    \n",
    "    ciphertext = [''] * key\n",
    "        \n",
    "    # Loop through each column in ciphertext:\n",
    "    for column in range(key):\n",
    "        currentIndex = column\n",
    "\n",
    "        # Keep looping until currentIndex goes past the message length:\n",
    "        while currentIndex < len(text):\n",
    "            # Place the character at currentIndex in message at the\n",
    "            # end of the current column in the ciphertext list:\n",
    "            ciphertext[column] += text[currentIndex]\n",
    "\n",
    "            currentIndex += key\n",
    "\n",
    "    # Convert the ciphertext list into a single string value and return it:\n",
    "    return ''.join(ciphertext)"
   ]
  },
  {
   "attachments": {},
   "cell_type": "markdown",
   "id": "0bf9a527",
   "metadata": {},
   "source": [
    "## Task\n",
    "- Research the code of the Transposition cipher above and try to picture what the code does.\n",
    "- Explain why the maximum can not be larger then `len(text)/2`\n",
    "- Create a decryption function and try your function on the secret message below"
   ]
  },
  {
   "cell_type": "code",
   "execution_count": null,
   "id": "3069cc65",
   "metadata": {},
   "outputs": [],
   "source": [
    "# Decrypt the following message with your own created decryption function. The key used for encrypting is 14.\n",
    "message = 'Tsts e gh hiAdt!ie tn r!sntidiu! cho temreny ley  owysptcuh stri iaaeapccmgdnhrhae sea z wprciiiio.ksn'"
   ]
  },
  {
   "cell_type": "markdown",
   "id": "514bc764",
   "metadata": {},
   "source": [
    "# Good Job!\n",
    "\n",
    "You are able to read code and create a decryption function for it. Impressive!"
   ]
  }
 ],
 "metadata": {
  "kernelspec": {
   "display_name": "Python 3 (ipykernel)",
   "language": "python",
   "name": "python3"
  },
  "language_info": {
   "codemirror_mode": {
    "name": "ipython",
    "version": 3
   },
   "file_extension": ".py",
   "mimetype": "text/x-python",
   "name": "python",
   "nbconvert_exporter": "python",
   "pygments_lexer": "ipython3",
   "version": "3.10.8"
  }
 },
 "nbformat": 4,
 "nbformat_minor": 5
}
