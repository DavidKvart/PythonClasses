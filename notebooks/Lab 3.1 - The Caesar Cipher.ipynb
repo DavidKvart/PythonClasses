{
 "cells": [
  {
   "attachments": {},
   "cell_type": "markdown",
   "id": "2055c3f5",
   "metadata": {},
   "source": [
    "# Lab 3.01 - The Caesar Cipher\n",
    "\n",
    "The Caesar cipher is a simple and widely known encryption technique used in cryptography. It is a substitution cipher where each letter in the plaintext (the original message) is replaced by a letter some fixed number of positions down the alphabet. \n",
    "\n",
    "The most used Caesar cipher is the ROT13 cipher, a special case of the Caesar cipher. It works by replacing each letter in the plaintext with the letter that is 13 positions down the alphabet, wrapping around to the beginning of the alphabet after \"Z\" or \"z\".\n",
    "\n",
    "In this lab we will use two Python implementations of the Caesar cipher. \n",
    "- The first one is using the `strings` library \n",
    "- The other one is using the built-in `chr()` and `ord()` functions. \n",
    "Try to understand and master both implementations. \n",
    "\n",
    "After you've studied both pieces of code, will you be able to decrypt the secret messages at the end of this lab?\n",
    "\n",
    "Good luck!"
   ]
  },
  {
   "attachments": {},
   "cell_type": "markdown",
   "id": "6529804d",
   "metadata": {},
   "source": [
    "## Implementation 1 - String Module\n",
    "The `string` module in Python is a built-in module that provides various constants and functions related to string manipulation. The module has some constants and some useful functions:\n",
    "\n",
    "- **Constants**: The string module provides constants such as `string.ascii_letters` (a concatenation of the lowercase and uppercase letters), `string.ascii_lowercase` (lowercase letters), `string.ascii_uppercase (uppercase letters)`, `string.digits` (numeric digits), `string.hexdigits` (hexadecimal digits), `string.octdigits` (octal digits), `string.punctuation` (punctuation characters), and `string.whitespace` (whitespace characters).\n",
    "\n",
    "- **Functions**: The string module also includes various functions for string manipulation, such as `string.capwords()` (capitalize the words in a string), `string.count()` (count the occurrences of a substring in a string), `string.join()` (join a list of strings into a single string), `string.split()` (split a string into a list of substrings), `string.strip()` (remove leading and trailing characters from a string), `string.replace()` (replace occurrences of a substring in a string), and more.\n",
    "\n",
    "In the first implementation we use the `ascii_lowercase` and `ascii_upercase` strings to perform our ceasar cipher. "
   ]
  },
  {
   "cell_type": "code",
   "execution_count": null,
   "id": "8b3c04ff",
   "metadata": {
    "vscode": {
     "languageId": "plaintext"
    }
   },
   "outputs": [],
   "source": [
    "import string"
   ]
  },
  {
   "cell_type": "code",
   "execution_count": null,
   "id": "5b12de95",
   "metadata": {
    "vscode": {
     "languageId": "plaintext"
    }
   },
   "outputs": [],
   "source": [
    "def caesar_cipher(text, key):\n",
    "    encrypted_text = \"\"\n",
    "    for char in text:\n",
    "        if char in string.ascii_lowercase:\n",
    "            encrypted_char = string.ascii_lowercase[(string.ascii_lowercase.find(char) + key) % 26]\n",
    "        elif char in string.ascii_uppercase:\n",
    "            encrypted_char = string.ascii_uppercase[(string.ascii_uppercase.find(char) + key) % 26]\n",
    "        else: \n",
    "            encrypted_char = char\n",
    "        encrypted_text += encrypted_char\n",
    "    return encrypted_text"
   ]
  },
  {
   "cell_type": "markdown",
   "id": "f4947a0d",
   "metadata": {},
   "source": [
    "## Implementation 2 - The chr() and ord() function\n",
    "This implementation is very similar to the first one, only uses the ascii values of the characters to perform the shift. In or"
   ]
  },
  {
   "cell_type": "code",
   "execution_count": null,
   "id": "68c184ae",
   "metadata": {
    "vscode": {
     "languageId": "plaintext"
    }
   },
   "outputs": [],
   "source": [
    "def caesar_cipher_v2(text, key):\n",
    "\n",
    "    encrypted_text = \"\"\n",
    "    for char in text:\n",
    "        if char.isalpha():\n",
    "            if char.islower():\n",
    "                encrypted_char = chr((ord(char) - ord('a') + key) % 26 + ord('a'))\n",
    "            else:\n",
    "                encrypted_char = chr((ord(char) - ord('A') + key) % 26 + ord('A'))\n",
    "        else:\n",
    "            encrypted_char = char\n",
    "        encrypted_text += encrypted_char\n",
    "    return encrypted_text\n"
   ]
  },
  {
   "cell_type": "markdown",
   "id": "04332676",
   "metadata": {},
   "source": [
    "## Task 1\n",
    "No go ahead, test both implementations with some test messages and a cipher key. Also, send some Ceasar encrypted secret messages to your team mates. "
   ]
  },
  {
   "cell_type": "code",
   "execution_count": null,
   "id": "b9f8d739",
   "metadata": {
    "vscode": {
     "languageId": "plaintext"
    }
   },
   "outputs": [],
   "source": [
    "message = \"This is a test message\"\n",
    "\n",
    "# Encrypt your own test messages with both implementations of the Ceasar cipher"
   ]
  },
  {
   "cell_type": "markdown",
   "id": "b81fcd50",
   "metadata": {},
   "source": [
    "## Task 2\n",
    "The three messages below are all encrypted with the caesar cipher, without you knowing the keys. \n",
    "\n",
    "Are able to decrypt all three messages? "
   ]
  },
  {
   "cell_type": "code",
   "execution_count": null,
   "id": "8d511fdd",
   "metadata": {},
   "outputs": [],
   "source": [
    "# Crack the following secret messages\n",
    "message_1 = \"Dobxq tloh! Vlr exsb zoxzhba vlro cfopq jbppxdb\"\n",
    "message_2 = \"Mci ofs ushhwbu uccr oh hvwg!\"\n",
    "message_3 = \"Epp xlvii qiwwekiw higvctxih, qmwwmsr gsqtpixih. Csy evi e viep vih xieqiv!\""
   ]
  },
  {
   "cell_type": "markdown",
   "id": "6b14c1a9",
   "metadata": {},
   "source": [
    "## Bonus task\n",
    "We can make the Caesar Cipher stronger by uniting upper- and lowercase letters in one string and include digits, spaces and special characters as well. Instead of wrapping around 26 characters, you can wrap your key around the length of the character string? \n",
    "\n",
    "Can you make a stronger version of the Caesar cipher that is not easily to be cracked? "
   ]
  },
  {
   "cell_type": "code",
   "execution_count": null,
   "id": "3233c6e9",
   "metadata": {},
   "outputs": [],
   "source": [
    "# Make a stronger version of the Caesar cipher by using a larger character set\n"
   ]
  },
  {
   "cell_type": "markdown",
   "id": "514bc764",
   "metadata": {},
   "source": [
    "# Good Job!\n",
    "\n",
    "This was your first cipher challenge of the week. With many more to come!"
   ]
  }
 ],
 "metadata": {
  "kernelspec": {
   "display_name": "Python 3 (ipykernel)",
   "language": "python",
   "name": "python3"
  },
  "language_info": {
   "codemirror_mode": {
    "name": "ipython",
    "version": 3
   },
   "file_extension": ".py",
   "mimetype": "text/x-python",
   "name": "python",
   "nbconvert_exporter": "python",
   "pygments_lexer": "ipython3",
   "version": "3.10.8"
  }
 },
 "nbformat": 4,
 "nbformat_minor": 5
}
