{
 "cells": [
  {
   "cell_type": "markdown",
   "id": "3374afce",
   "metadata": {},
   "source": [
    "# Lab 0.01 - Hello, World!\n",
    "\n",
    "\"Hello, world!\" is a simple and traditional computer program that is often used to introduce beginners to programming. The program simply displays the message \"Hello, world!\" on the screen or console of a computer.\n",
    "\n",
    "The \"Hello, world!\" program is typically one of the first programs that a beginner programmer learns to write, as it demonstrates the basic syntax and structure of a programming language in a very simple way. It also serves as a quick test to make sure that the programming environment is set up correctly and that the programmer can write and run code.\n",
    "\n",
    "In this first lab, you will write the Hello, World program to four different contexts:\n",
    "\n",
    "- The Python interactive interpreter\n",
    "- Inside of Jupyter notebooks \n",
    "- As a standalone script run by the python interpreter\n",
    "- To the running context of your own IDE (if provided)    "
   ]
  },
  {
   "cell_type": "markdown",
   "id": "b5b4bf89",
   "metadata": {},
   "source": [
    "## The Python interactive interpreter\n",
    "\n",
    "The Python interactive interpreter or REPL (Read Evaluate Print Loop) is a command-line interface that allows you to interactively execute Python code and immediately see the results. It is a built-in feature of the Python programming language and is commonly referred to as the \"Python shell\".\n",
    "\n",
    "When you launch the Python interpreter, you are presented with a prompt (usually >>>) where you can enter Python code. When you press enter, the interpreter immediately executes the code and displays the output. This makes it a great tool for testing code snippets and exploring the functionality of the Python language.\n",
    "\n",
    "The interactive interpreter is particularly useful for beginners who are learning Python, as it allows them to experiment with code without needing to write and run full programs. It can also be used by experienced programmers for quick prototyping, debugging, and exploring new libraries or modules.\n",
    "\n",
    "So let's start the interpreter. Go to the Kali command line and run:\n",
    "```sh\n",
    "kali@kali:~$ python 3\n",
    "```  \n",
    "\n",
    "Then in the interpreter run:\n",
    "```python\n",
    ">>> print(\"Hello, world!)\" \n",
    "```  "
   ]
  },
  {
   "cell_type": "markdown",
   "id": "202446c3",
   "metadata": {},
   "source": [
    "## Jupyter Notebooks\n",
    "\n",
    "Jupyter Notebooks, allows users to create and share documents that contain live code, output, visualizations, and narrative text. You can document your code and your output in a single document that can be easily shared and replicated by others. It is great for educational purposes.\n",
    "\n",
    "In a Jupyter Notebook, cells are the basic units of code and text that make up the document. They can be used to write and execute code, display output, and write markdown text. There are two types of cells in a Jupyter Notebook: code cells and markdown cells.  \n",
    "\n",
    "To run a cell in Jupyter Notebook, you can click on the cell to select it, and then either click the `Run` button in the toolbar or press `Shift+Enter`. When you run a cell, its output (if any) is displayed below the cell, and a new cell is automatically created below it.\n",
    "\n",
    "Go ahead run the following Hello, World! program in Jupyter by running the cell below."
   ]
  },
  {
   "cell_type": "code",
   "execution_count": 2,
   "id": "d8d64d54",
   "metadata": {},
   "outputs": [
    {
     "name": "stdout",
     "output_type": "stream",
     "text": [
      "Hello World\n"
     ]
    }
   ],
   "source": [
    "print(\"Hello World\")"
   ]
  },
  {
   "cell_type": "markdown",
   "id": "70fd9570",
   "metadata": {},
   "source": [
    "## As a standalone script \n",
    "You can also run the \"Hello, World\" program immediately as a stand-alone script in the terminal. \n",
    "\n",
    "You open a text editor and create a new file. Add the hashbang at the top of the file. The hashbang tells the shell which interpreter to use to execute the script. For Python scripts, the hashbang should be `#!/upythoisr/bin/python3`. Add the Python code for the \"Hello, world\" program.   \n",
    "\n",
    "```python\n",
    "#!/usr/bin/python3\n",
    "\n",
    "print(\"Hello, world!\")\n",
    "```  \n",
    "\n",
    "Save the file with a `.py` extension. For example, you could save it as `hello.py`.  In a terminal, navigate to the directory where the file is saved.  Make the file executable by running the command `chmod +x hello.py`. Finally, run the script by entering `./hello.py` in the terminal. "
   ]
  },
  {
   "cell_type": "markdown",
   "id": "a0ae03f2",
   "metadata": {},
   "source": [
    "## Running context of your IDE \n",
    "The running context of an IDE (Integrated Development Environment) refers to the current state of the program being executed within the IDE. It includes information such as the current line of code being executed, the values of any variables or objects in memory, the call stack of any active functions or methods, and the state of any open files or editors.\n",
    "\n",
    "The running context is important for debugging code, as it allows developers to inspect the state of the program at any given point in time. Most IDEs provide a variety of tools for inspecting the running context, including the ability to view variable values, step through code line-by-line, and set breakpoints to pause execution at specific points in the program.\n",
    "\n",
    "Understanding the running context can also be important for optimizing performance and memory usage, as it allows developers to identify areas of the code that may be causing bottlenecks or using excessive resources. By analyzing the running context, developers can make informed decisions about how to optimize the code and improve its overall performance."
   ]
  },
  {
   "cell_type": "markdown",
   "id": "ce55c54d",
   "metadata": {},
   "source": [
    "## Team Presentation \n",
    "Give a short presentation (5-10 minutes) of your team and of your working environment: \n",
    "- Introduce your team and your team members\n",
    "- What tools do you use?\n",
    "- How does the “Hello, world!” program look in your IDE?\n",
    "- Go over some of the features of your IDE\n",
    "- How do you organize knowledge sharing as a team?"
   ]
  }
 ],
 "metadata": {
  "kernelspec": {
   "display_name": "Python 3 (ipykernel)",
   "language": "python",
   "name": "python3"
  },
  "language_info": {
   "codemirror_mode": {
    "name": "ipython",
    "version": 3
   },
   "file_extension": ".py",
   "mimetype": "text/x-python",
   "name": "python",
   "nbconvert_exporter": "python",
   "pygments_lexer": "ipython3",
   "version": "3.10.9"
  }
 },
 "nbformat": 4,
 "nbformat_minor": 5
}
