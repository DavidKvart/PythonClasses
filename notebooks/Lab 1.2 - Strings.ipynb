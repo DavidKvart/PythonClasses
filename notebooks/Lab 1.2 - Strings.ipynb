{
 "cells": [
  {
   "cell_type": "markdown",
   "id": "2dafa43c",
   "metadata": {},
   "source": [
    "# Lab 1.02 - Strings\n",
    "\n",
    "We use strings in Python to convey, store, or record text-based information.\n",
    "\n",
    "Strings in Python are an ORDERED SEQUENCE, meaning that Python tracks and indexes every element (letters, numbers, spaces, and special characters) in order from beginning to end (and in reverse).\n",
    "\n",
    "We use quotes \"\" to declare a string in our code.\n",
    "\n",
    "**Here is an example of a string:**\n",
    "\n",
    "\"Hello, Red Team\"\n",
    "\n",
    "Python understands this string as a sequence of all the characters contained between the quotes, including the comma, space, and exclamation point.\n",
    "\n",
    "**In this lab, we will learn:**\n",
    "1. How to create a string\n",
    "2. Printing strings\n",
    "3. String tracking and indexing\n",
    "4. String concatenation\n",
    "5. String methods\n",
    "6. String formatting"
   ]
  },
  {
   "cell_type": "markdown",
   "id": "e8068768",
   "metadata": {},
   "source": [
    "### Defining Strings\n",
    "Strings are defined using either single quotes ('') or double quotes (\"\")\n",
    "\n",
    "For Example:"
   ]
  },
  {
   "cell_type": "code",
   "execution_count": null,
   "id": "001e9f02",
   "metadata": {},
   "outputs": [],
   "source": [
    "# Single Word\n",
    "'Hello'"
   ]
  },
  {
   "cell_type": "code",
   "execution_count": null,
   "id": "7c64e8dd",
   "metadata": {},
   "outputs": [],
   "source": [
    "# Whole Sentence\n",
    "'Hello, Cadets! Very glad to be here!'"
   ]
  },
  {
   "cell_type": "code",
   "execution_count": null,
   "id": "f4991552",
   "metadata": {},
   "outputs": [],
   "source": [
    "# You can also use double quotes to make a string\n",
    "\"This string uses double quotes. I preffer double quotes. Why? See Below\""
   ]
  },
  {
   "cell_type": "code",
   "execution_count": null,
   "id": "2a6ae2d5",
   "metadata": {},
   "outputs": [],
   "source": [
    "# Pay attention to which quotes you use! Can you fix it?\"\n",
    "'This code isn't going to work, but why?'"
   ]
  },
  {
   "cell_type": "markdown",
   "id": "9ed8d29b",
   "metadata": {},
   "source": [
    "### Printing Strings\n",
    "Using Jupyter notebook with just a string in a cell will automatically output strings, but the correct way to display strings in your output in other IDE's is by using a 'print function.'"
   ]
  },
  {
   "cell_type": "code",
   "execution_count": null,
   "id": "2f7c6055",
   "metadata": {},
   "outputs": [],
   "source": [
    "# Jupyter Notebook allows us to just declare a string, as above\n",
    "\"Hello, again!\""
   ]
  },
  {
   "cell_type": "code",
   "execution_count": null,
   "id": "b415a1b2",
   "metadata": {},
   "outputs": [],
   "source": [
    "# Declare your own string - anything you want"
   ]
  },
  {
   "cell_type": "code",
   "execution_count": null,
   "id": "036e6d3a",
   "metadata": {},
   "outputs": [],
   "source": [
    "# However, if we are creating a code file, which will run in a separate interpreter, it won't show our string\n",
    "# Also, we can't output multiple strings in a single cell this way\n",
    "\"Test line number 1\"\n",
    "\"Test line number 2\""
   ]
  },
  {
   "cell_type": "markdown",
   "id": "8a2ea33c",
   "metadata": {},
   "source": [
    "If we want our string to be displayed to the user in any environment, the correct way is to use the \"print\" function.\n"
   ]
  },
  {
   "cell_type": "code",
   "execution_count": null,
   "id": "68d5be4a",
   "metadata": {},
   "outputs": [],
   "source": [
    "# Notice how our output isn't wrapped in quotes\n",
    "print(\"Hello again!\")"
   ]
  },
  {
   "cell_type": "code",
   "execution_count": null,
   "id": "894b252e",
   "metadata": {},
   "outputs": [],
   "source": [
    "# Print out any string you want"
   ]
  },
  {
   "cell_type": "code",
   "execution_count": null,
   "id": "1f155042",
   "metadata": {},
   "outputs": [],
   "source": [
    "# This allows us to print multiple lines in a single cell\n",
    "print(\"Test line number 1\")\n",
    "print(\"Test line number 2\")"
   ]
  },
  {
   "cell_type": "code",
   "execution_count": null,
   "id": "dec52231",
   "metadata": {},
   "outputs": [],
   "source": [
    "# Print 3 unique lines of string in this cell\n"
   ]
  },
  {
   "cell_type": "markdown",
   "id": "b9c6452b",
   "metadata": {},
   "source": [
    "### Printing Multiple lines\n",
    "There are other ways to print multiple lines:\n",
    "1. We can use tripple quotes (\"\"\"\" \"\"\"\")\n",
    "2. We can use escape commands (\\n)"
   ]
  },
  {
   "cell_type": "code",
   "execution_count": null,
   "id": "c0eb904c",
   "metadata": {},
   "outputs": [],
   "source": [
    "# Using tripple quotes allows us to print multi-line strings and not worry about punctuation or quotes inside our string.\n",
    "print(\"\"\"Using tripple quotes\n",
    "I can print\n",
    "multiple lines\n",
    "and I can do quotes \"Like this\"\n",
    "or 'like this'\n",
    "without breaking the code\"\"\")"
   ]
  },
  {
   "cell_type": "code",
   "execution_count": null,
   "id": "fb3e13be",
   "metadata": {},
   "outputs": [],
   "source": [
    "# Print the same 3 lines of code you wrote above, but this time with tripple quotes and only one print function\n"
   ]
  },
  {
   "cell_type": "markdown",
   "id": "49ce68f9",
   "metadata": {},
   "source": [
    "### Escape Characters\n",
    "the backslash (\\\\) is a special character which the interpreter will read in a unique way.\n",
    "\n",
    "We call it the \"Escape Character\". When combined with particular letters, it will cause the interpreter to escape from the string and perform a specific operation\n",
    "\n",
    "Here are some of the basics:\n",
    "1. \\\\' (Single Quote)\n",
    "2. \\n (Start a new line)\n",
    "3. \\t (Create an indentation)"
   ]
  },
  {
   "cell_type": "code",
   "execution_count": null,
   "id": "f621817d",
   "metadata": {},
   "outputs": [],
   "source": [
    "# Read the following string and try to identify what the escape characters are doing:\n",
    "print(\"This is the first line\\nThis is the second line\\n This is the third line with a space\\n\\t This is the fourth line with an indentation\")"
   ]
  },
  {
   "cell_type": "code",
   "execution_count": null,
   "id": "b5c14cab",
   "metadata": {},
   "outputs": [],
   "source": [
    "# You can also use escape characters to ignore quotes and avoid errors\n",
    "print('Using a single quote in this string didn\\'t break my code!')"
   ]
  },
  {
   "cell_type": "code",
   "execution_count": null,
   "id": "70099a51",
   "metadata": {},
   "outputs": [],
   "source": [
    "# Print the same 3 lines of code you wrote above, but this time using the escape character \n",
    "# Bonus: (Make the 3rd line indented)\n"
   ]
  },
  {
   "cell_type": "markdown",
   "id": "00892186",
   "metadata": {},
   "source": [
    "### Calculating Length\n",
    "\n",
    "How many characters (including punctuation, spaces, etc) are in the following string?"
   ]
  },
  {
   "cell_type": "code",
   "execution_count": null,
   "id": "cb1c0499",
   "metadata": {},
   "outputs": [],
   "source": [
    "print(\"We’ve had vicious kings and we’ve had idiot kings, but I don’t know if we’ve ever been cursed with a vicious idiot for a king! ~Tyrion Lannister~\")"
   ]
  },
  {
   "cell_type": "code",
   "execution_count": null,
   "id": "3a6e7285",
   "metadata": {},
   "outputs": [],
   "source": [
    "# Luckily, we don't have to count every character ourselves. We can simple call the \"len()\" function to do it for us\n",
    "# Run this cell\n",
    "len(\"We’ve had vicious kings and we’ve had idiot kings, but I don’t know if we’ve ever been cursed with a vicious idiot for a king! ~Tyrion Lannister~\")"
   ]
  },
  {
   "cell_type": "code",
   "execution_count": null,
   "id": "c50aef56",
   "metadata": {},
   "outputs": [],
   "source": [
    "# We can also save the long string into a simple variable and calculate the length of the variable\n",
    "quote = \"We’ve had vicious kings and we’ve had idiot kings, but I don’t know if we’ve ever been cursed with a vicious idiot for a king! ~Tyrion Lannister~\""
   ]
  },
  {
   "cell_type": "code",
   "execution_count": null,
   "id": "add42954",
   "metadata": {},
   "outputs": [],
   "source": [
    "# Calculate the length of the quote above, using the variable name\n"
   ]
  },
  {
   "cell_type": "markdown",
   "id": "47dd2037",
   "metadata": {},
   "source": [
    "### Indexing\n",
    "We use the square brackets [ ] to perform indexing.\n",
    "\n",
    "The syntax is as follows:\n",
    "\n",
    "string/variable[integer]\n",
    "\n",
    "For example:\n",
    "\n",
    "my_string = \"blah blah blah\"\n",
    "\n",
    "mystring[5]\n",
    "\n",
    "This will output 'b' because 'b' is the 6th caracter in our sequence\n",
    "\n",
    "Lets practice some indexing on our Tyrion Lannister quote"
   ]
  },
  {
   "cell_type": "code",
   "execution_count": null,
   "id": "41975ffe",
   "metadata": {},
   "outputs": [],
   "source": [
    "# Grab the first character of our quote above\n"
   ]
  },
  {
   "cell_type": "code",
   "execution_count": null,
   "id": "b547ea5e",
   "metadata": {},
   "outputs": [],
   "source": [
    "# Grab the 5th character (Remember, indexing starts with the number 0)\n"
   ]
  },
  {
   "cell_type": "code",
   "execution_count": null,
   "id": "cb5b8842",
   "metadata": {},
   "outputs": [],
   "source": [
    "# Lets grab the middle character... how might we do this? Use math to solve it if you can\n"
   ]
  },
  {
   "cell_type": "code",
   "execution_count": null,
   "id": "c76c228b",
   "metadata": {},
   "outputs": [],
   "source": [
    "# Now let's grab the last letter of our string. There are a couple ways to do this.\n",
    "# First, fogure out the index of the last letter using the len function\n",
    "# This won't work... why not? Try to fix it\n",
    "quote[145]"
   ]
  },
  {
   "cell_type": "markdown",
   "id": "f9bc9be3",
   "metadata": {},
   "source": [
    "**REMEMBER**: Python also keeps a REVERSE index, starting from the END of the string with the index -1"
   ]
  },
  {
   "cell_type": "code",
   "execution_count": null,
   "id": "2e7e170e",
   "metadata": {},
   "outputs": [],
   "source": [
    "# Next, use reverse indexing to grab the last letter in a simple way\n"
   ]
  },
  {
   "cell_type": "markdown",
   "id": "362ac411",
   "metadata": {},
   "source": [
    "### String Concatenation\n",
    "Concatenation is essentially \"tying\" strings together. Let's explore how this is done.\n",
    "\n",
    "We can use the comma ',' to do concatenation"
   ]
  },
  {
   "cell_type": "code",
   "execution_count": null,
   "id": "52324c94",
   "metadata": {},
   "outputs": [],
   "source": [
    "# Make 2 variables, each with a different half of a string\n",
    "a = \n",
    "b = "
   ]
  },
  {
   "cell_type": "code",
   "execution_count": null,
   "id": "b3bba7c3",
   "metadata": {},
   "outputs": [],
   "source": [
    "# Print out both variables in one print statement using the comma for concatenation\n",
    "print()"
   ]
  },
  {
   "cell_type": "markdown",
   "id": "f065856b",
   "metadata": {},
   "source": [
    "Next, we can use the '+' operator to tie them together"
   ]
  },
  {
   "cell_type": "code",
   "execution_count": null,
   "id": "8ea0411d",
   "metadata": {},
   "outputs": [],
   "source": [
    "# Lets try concatenating our strings with the \"+\" Operator\n",
    "print()"
   ]
  },
  {
   "cell_type": "markdown",
   "id": "fd86e13f",
   "metadata": {},
   "source": [
    "Notice how this method ties strings together without a space between the first and last strings. This can be useful, but also requires us to define a space if needed."
   ]
  },
  {
   "cell_type": "code",
   "execution_count": null,
   "id": "94921adc",
   "metadata": {},
   "outputs": [],
   "source": [
    "# Let's do it again, adding a space in the middle, again with the + operator\n"
   ]
  },
  {
   "cell_type": "code",
   "execution_count": null,
   "id": "6d22f344",
   "metadata": {},
   "outputs": [],
   "source": [
    "# Lastly, we can also use the \"*\" operator to create repetition\n",
    "c = \"ha\"\n",
    "print(c*10)"
   ]
  },
  {
   "cell_type": "code",
   "execution_count": null,
   "id": "dbc31d63",
   "metadata": {},
   "outputs": [],
   "source": [
    "# What is happening in this code? Try to explain the output\n",
    "d = a[0] + b[0]\n",
    "print(d)"
   ]
  },
  {
   "cell_type": "markdown",
   "id": "4361951b",
   "metadata": {},
   "source": [
    "### Note the TYPE!\n",
    "It's important to keep track of the type of data you are tying to add.\n",
    "**Remember:**\n",
    "1. Using the \"+\" operator on integers and floats results in math.\n",
    "2. Using the \"+\" operator on strings results in concatenation.\n",
    "3. Using the \"+\" operator on a string and a number results in an error"
   ]
  },
  {
   "cell_type": "code",
   "execution_count": null,
   "id": "1547a5e2",
   "metadata": {},
   "outputs": [],
   "source": [
    "# This will NOT work. Why?\n",
    "text = \"My score for the final exam was: \"\n",
    "my_score = 98.6\n",
    "\n",
    "print(text + my_score)"
   ]
  },
  {
   "cell_type": "code",
   "execution_count": null,
   "id": "39799d77",
   "metadata": {},
   "outputs": [],
   "source": [
    "# We can check what data is stored in a variable using the \"type()\" function.\n",
    "# This can help with troubleshooting when wrong data types are used\n",
    "# Check the Data type of the \"text\" variable\n",
    "type()"
   ]
  },
  {
   "cell_type": "code",
   "execution_count": null,
   "id": "407fe010",
   "metadata": {},
   "outputs": [],
   "source": [
    "# Check the Data type od the \"my_score\" variable\n",
    "type()"
   ]
  },
  {
   "cell_type": "code",
   "execution_count": null,
   "id": "bae700d7",
   "metadata": {},
   "outputs": [],
   "source": [
    "# Fix the code to make it work (There are multiple possible answers)\n",
    "text = \"My score for the final exam was: \"\n",
    "my_score = 98.6\n",
    "\n",
    "print(text + my_score)"
   ]
  },
  {
   "cell_type": "markdown",
   "id": "336c34e8",
   "metadata": {},
   "source": [
    "## String Methods\n",
    "\n",
    "Remember, we can find all the available methods for strings using \"dir(str)\""
   ]
  },
  {
   "cell_type": "code",
   "execution_count": null,
   "id": "03385bfa",
   "metadata": {},
   "outputs": [],
   "source": [
    "dir(str)"
   ]
  },
  {
   "cell_type": "markdown",
   "id": "e651c034",
   "metadata": {},
   "source": [
    "It can be a bit intimidating to look at them all at once when you're just starting, but we'll start with some of the useful methods for beginners"
   ]
  },
  {
   "cell_type": "code",
   "execution_count": null,
   "id": "9fc95968",
   "metadata": {},
   "outputs": [],
   "source": [
    "# the \"upper\" and \"lower\" methods are nice and easy. They will convert your string to all uppercase or all lowercase letters\n",
    "my_string = \"For the watch!\"\n",
    "#Make the string all uppercase using the .upper() method\n"
   ]
  },
  {
   "cell_type": "code",
   "execution_count": null,
   "id": "3a31af7c",
   "metadata": {
    "scrolled": false
   },
   "outputs": [],
   "source": [
    "# Make all characters lowercase with the .lower() method\n"
   ]
  },
  {
   "cell_type": "code",
   "execution_count": null,
   "id": "a96ad20b",
   "metadata": {},
   "outputs": [],
   "source": [
    "# the \"isupper()\" method checks if all the alphanumeric characters are uppercase\n",
    "upper = \"UPPERCASE!\"\n",
    "# run the .isupper() method on the \"upper\" variable\n"
   ]
  },
  {
   "cell_type": "code",
   "execution_count": null,
   "id": "eda83e94",
   "metadata": {},
   "outputs": [],
   "source": [
    "# Run the .islower() method on the \"upper variable\"\n"
   ]
  },
  {
   "cell_type": "code",
   "execution_count": null,
   "id": "77492110",
   "metadata": {},
   "outputs": [],
   "source": [
    "# the \"isdigit()\" method returns a boolean value on whether or not a string makes a whole number\n",
    "number_1 = \"12345\"\n",
    "number_2 = \"123abc\"\n",
    "# use the print function to run the .isdigit() method on both of the above variables\n",
    "print()\n",
    "print()"
   ]
  },
  {
   "cell_type": "code",
   "execution_count": null,
   "id": "9125cfdf",
   "metadata": {},
   "outputs": [],
   "source": [
    "# the \"replace()\" method takes 2 arguments: string.replace(\"a\", \"b\")\n",
    "# It will replace the caracter(s) of the first argument with the character(s) of the second\n",
    "my_string = \"John Paul is the worst\"\n",
    "# Use the .replace() method on the above variable to replace the word \"worst\" with \"best\" ... or any other word you choose :)\n"
   ]
  },
  {
   "cell_type": "markdown",
   "id": "88f66843",
   "metadata": {},
   "source": [
    "### Slicing\n",
    "\n",
    "Remember this quote from our last lesson with Strings?\n",
    "\n",
    "\"We’ve had vicious kings and we’ve had idiot kings, but I don’t know if we’ve ever been cursed with a vicious idiot for a king!\"\n",
    "\n",
    "Let's slice this baby up! How do we do it? We use the \"[ : ]\" to perform slicing, which will either grab everything up to a certin point or after a certain point."
   ]
  },
  {
   "cell_type": "code",
   "execution_count": null,
   "id": "2f2b8056",
   "metadata": {},
   "outputs": [],
   "source": [
    "quote = \"We’ve had vicious kings and we’ve had idiot kings, but I don’t know if we’ve ever been cursed, with a vicious idiot for a king!\""
   ]
  },
  {
   "cell_type": "code",
   "execution_count": null,
   "id": "0c0c3c8a",
   "metadata": {},
   "outputs": [],
   "source": [
    "# First lets find out the length of our string to avoid indexing errors. Do you remember how we might find the middle of the string?\n"
   ]
  },
  {
   "cell_type": "code",
   "execution_count": null,
   "id": "fc3ff976",
   "metadata": {},
   "outputs": [],
   "source": [
    "#If we want to grab everything up until the middle character, we put the middle index AFTER the colon\n",
    "quote[:]"
   ]
  },
  {
   "cell_type": "code",
   "execution_count": null,
   "id": "a75ff31e",
   "metadata": {},
   "outputs": [],
   "source": [
    "#If we want to grab everything AFTER the middle character, we put the middle index BEFORE the colon\n",
    "quote[:]"
   ]
  },
  {
   "cell_type": "code",
   "execution_count": null,
   "id": "3ec76218",
   "metadata": {},
   "outputs": [],
   "source": [
    "# Use slicing to save both halves of the quote to 2 variables called \"half_1\" and \"half_2\""
   ]
  },
  {
   "cell_type": "markdown",
   "id": "f2742381",
   "metadata": {},
   "source": [
    "What if we want to grab everything before or after the comma, but we don't know the comma's index and we don't want to count manually?\n",
    "\n",
    "No problem! We can use the \".index()\" method to find the index of the first occurance of a comma"
   ]
  },
  {
   "cell_type": "code",
   "execution_count": null,
   "id": "0e184975",
   "metadata": {},
   "outputs": [],
   "source": [
    "# Save the index of the 1st comma to a variable called \"comma\" and print the value using \"print(comma)\"\n",
    "comma = "
   ]
  },
  {
   "cell_type": "code",
   "execution_count": null,
   "id": "d46d5026",
   "metadata": {},
   "outputs": [],
   "source": [
    "# Save everything before and up-to the comma to one variable, and everything after to a second variable\n"
   ]
  },
  {
   "cell_type": "code",
   "execution_count": null,
   "id": "ac78bcf9",
   "metadata": {},
   "outputs": [],
   "source": [
    "# Use string concatenation to put both variables together"
   ]
  },
  {
   "cell_type": "code",
   "execution_count": null,
   "id": "d21e6909",
   "metadata": {},
   "outputs": [],
   "source": [
    "# Logic Challenge: Take the text after the comma and move it to the beginning of the string\n"
   ]
  },
  {
   "cell_type": "markdown",
   "id": "56e2f63d",
   "metadata": {},
   "source": [
    "Using double colon \"[ : : ]\" will allow you to skip over letters as you iterate the string"
   ]
  },
  {
   "cell_type": "code",
   "execution_count": null,
   "id": "fdfb0c3c",
   "metadata": {},
   "outputs": [],
   "source": [
    "# How can we use slicing to grab and print every second letter of our string?\n"
   ]
  },
  {
   "cell_type": "code",
   "execution_count": null,
   "id": "5b04ea74",
   "metadata": {},
   "outputs": [],
   "source": [
    "# How about every 3rd letter?\n"
   ]
  },
  {
   "cell_type": "markdown",
   "id": "8fa9e2f2",
   "metadata": {},
   "source": [
    "### String Reversal\n",
    "We can even use slicing to easily reverse our string simply by using string[: : -1]\n",
    "\n",
    "The logic is that we grab all the letters from start to finish (first 2 arguments), but in reverse steps of 1 (3rd argument)\n",
    "\n",
    "Easy, right?"
   ]
  },
  {
   "cell_type": "code",
   "execution_count": null,
   "id": "9a4cc2fe",
   "metadata": {},
   "outputs": [],
   "source": [
    "print(quote[::-1])"
   ]
  },
  {
   "cell_type": "markdown",
   "id": "1a0235b4",
   "metadata": {},
   "source": [
    "## String Formatting\n",
    "String formating helps keep our strings flexible and dynamic by allowing us to insert data and convert it to string automatically.\n",
    "\n",
    "You will commonly come across 3 different methods of string formating\n",
    "\n",
    "1. f-string literal\n",
    "2. format method\n",
    "3. formatting \"%\" operator"
   ]
  },
  {
   "cell_type": "markdown",
   "id": "1ac42d4a",
   "metadata": {},
   "source": [
    "### f-string literals\n",
    "\n",
    "f-string literals (also known as \"string interpolation\") are the most modern, current way of formatting strings. This method allows you to insert data or variables directly into curly braces {} in your string, which is easier to read and more efficient to write than the older methods.\n",
    "\n",
    "You create an f-string literal simply by blacing an 'f' in front of your string's starting quotes as shown here:\n",
    "\n",
    "name = John\n",
    "\n",
    "print(f\"Hello, my name is {name}.\")"
   ]
  },
  {
   "cell_type": "code",
   "execution_count": null,
   "id": "97e0fbbb",
   "metadata": {},
   "outputs": [],
   "source": [
    "# Lets practice with f-string literals. \n",
    "# Create various variables with string, integer, or even boolean values and insert them into a string with f-string formatting.\n",
    "\n",
    "char_1 = \"Tyrion Lannister\"\n",
    "char_2 = \"Danaerys\"\n",
    "season_a = 3\n",
    "season_b = 8\n",
    "result_1 = True\n",
    "result_2 = 19 < 2 # Will output \"False\""
   ]
  },
  {
   "cell_type": "code",
   "execution_count": null,
   "id": "9d95be11",
   "metadata": {
    "scrolled": true
   },
   "outputs": [],
   "source": [
    "print(f\"{char_1} is the best character in Got, way cooler than {char_2}. It's {result_1} that season {season_a} was the best.\\nIf you think that season {season_b} was good, your conclusion is {result_2}\")"
   ]
  },
  {
   "cell_type": "code",
   "execution_count": null,
   "id": "178a5402",
   "metadata": {},
   "outputs": [],
   "source": [
    "# Save your name, favorite TV show, character name, season, and a boolean value to separate variables\n",
    "name = # Your name\n",
    "series = # Your favorite TV Series\n",
    "char = # Your favorite Character\n",
    "season = # Your favorite Season\n",
    "value = # Boolean Value"
   ]
  },
  {
   "cell_type": "code",
   "execution_count": null,
   "id": "0ecc752a",
   "metadata": {},
   "outputs": [],
   "source": [
    "# Fix this sentence with formatting to include all the right variables.\n",
    "print(\"Hello, my name is (your name) and my favorite TV series is (your show). My favorite character in the show is (your character) because they are awesome! I especially liked season (your season). Everything I just told you is (your boolean)\")"
   ]
  },
  {
   "cell_type": "markdown",
   "id": "1dde6060",
   "metadata": {},
   "source": [
    "### String Formatting Method\n",
    "\"format()\" is a string method that allows you to do string formatting with a slightly differrent syntax.\n",
    "\n",
    "With the format method, empty curly braces {} are placed inside the string and their content is defined as arguments in the format method as shown below:\n",
    "\n",
    "print(\"Hello, my first name is { } and my middle name is { }\".format(\"John\", \"Paul\"))\n",
    "\n",
    "You'll find this method commonly in python versions older than 3.6"
   ]
  },
  {
   "cell_type": "code",
   "execution_count": null,
   "id": "3a59ed6c",
   "metadata": {},
   "outputs": [],
   "source": [
    "# Write a simple string using the format method to insert variables\n",
    "print(\"Hello, my first name is {} and my middle name is {}\".format(\"John\", \"Paul\"))"
   ]
  },
  {
   "cell_type": "code",
   "execution_count": null,
   "id": "75eb88be",
   "metadata": {},
   "outputs": [],
   "source": [
    "# you can also use variables within your curly braces but they must be defined as arguments in the end\n",
    "\n",
    "first_name = \"Johan\"\n",
    "middle_name = \"Mitchel\"\n",
    "\n",
    "print(\"Hello, my first name is {name_1} and my middle name is {name_2}\".format(name_1=first_name, name_2=middle_name))"
   ]
  },
  {
   "cell_type": "code",
   "execution_count": null,
   "id": "89781234",
   "metadata": {},
   "outputs": [],
   "source": [
    "# Repeat this step, only using the .format() method\n",
    "print(\"Hello, my name is (your name) and my favorite TV series is (your show). My favorite character in the show is (your character) because they are awesome! I especially liked season (your season). Everything I just told you is (your boolean)\")"
   ]
  },
  {
   "cell_type": "markdown",
   "id": "d0ee19a0",
   "metadata": {},
   "source": [
    "### Old-school Format Operator\n",
    "\n",
    "This is a much more old-school method of formatting strings and is seldom used anymore. Still it's good to know it in case you come across code written this way.\n",
    "\n",
    "In this method, we use the formatting operator `%` together with a converstion operator (e.g.: `s`,`r`,`d`,`f`) to define how we want to interpret and convert data\n",
    "\n",
    "The two methods `%s` and `%r` convert any python object to a string using two separate methods: str() and repr(). Note that %r and repr() deliver the string representation of the object, including quotation marks and any escape characters."
   ]
  },
  {
   "cell_type": "code",
   "execution_count": null,
   "id": "469c8c45",
   "metadata": {},
   "outputs": [],
   "source": [
    "# Notice the differing outputs when we use %s vs %r\n",
    "print('He said his name was %s.' %'Ned')\n",
    "print('He said his name was %r.' %'Ned')"
   ]
  },
  {
   "cell_type": "code",
   "execution_count": null,
   "id": "9da2e173",
   "metadata": {},
   "outputs": [],
   "source": [
    "# As another example, \\t inserts a tab into a string.\n",
    "print('I once caught a fish %s.' %'this \\tbig')\n",
    "print('I once caught a fish %r.' %'this \\tbig')"
   ]
  },
  {
   "cell_type": "markdown",
   "id": "bc4db9e7",
   "metadata": {},
   "source": [
    "The %s operator converts whatever it sees into a string, including integers and floats. The %d operator converts numbers to integers first, without rounding. Note the difference below:"
   ]
  },
  {
   "cell_type": "code",
   "execution_count": null,
   "id": "23a091d8",
   "metadata": {},
   "outputs": [],
   "source": [
    "print('I watched %s episodes today.' %5.75)\n",
    "print('I watched %d episodes today.' %5.75)"
   ]
  },
  {
   "cell_type": "markdown",
   "id": "bb15471f",
   "metadata": {},
   "source": [
    "# Congratulations, Strings Master!\n",
    "There will always be more to learn, but you've taken great strides. Keep practicing!"
   ]
  }
 ],
 "metadata": {
  "kernelspec": {
   "display_name": "Python 3 (ipykernel)",
   "language": "python",
   "name": "python3"
  },
  "language_info": {
   "codemirror_mode": {
    "name": "ipython",
    "version": 3
   },
   "file_extension": ".py",
   "mimetype": "text/x-python",
   "name": "python",
   "nbconvert_exporter": "python",
   "pygments_lexer": "ipython3",
   "version": "3.10.8"
  }
 },
 "nbformat": 4,
 "nbformat_minor": 5
}
