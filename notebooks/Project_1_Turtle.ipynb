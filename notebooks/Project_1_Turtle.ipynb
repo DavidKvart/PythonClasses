{
 "cells": [
  {
   "cell_type": "markdown",
   "id": "a61250d3",
   "metadata": {},
   "source": [
    "# Project 1 - Turtle Library\n",
    "The turtle library in Python is a module that provides a way to create graphics and shapes by controlling a virtual turtle. The turtle is a cursor that can be moved around the screen and used to draw lines and shapes. \n",
    "\n",
    "The turtle library provides a simple and fun way for beginners to learn about programming and computer graphics. It is often used in introductory programming courses to teach basic programming concepts such as loops, conditionals, and functions.\n",
    "\n",
    "With the turtle library, you can create drawings, animations, and even games. The library provides a variety of methods to control the turtle, such as forward, backward, left, right, penup, pendown, and many more. You can also change the color of the turtle, the pen size, and the background color of the screen.\n",
    "\n",
    "Overall, the turtle library in Python is a great tool for beginners to learn about programming and computer graphics, and can be a lot of fun to use.\n",
    "\n",
    "In this first coding project we are going to create an advanced turtle application. The goal of the project is to research an extensive library, demonstrate branches, loops and functions and to use additional libraries."
   ]
  },
  {
   "cell_type": "markdown",
   "id": "85f80a56",
   "metadata": {},
   "source": [
    "## To import the library\n",
    "Importing the turtle library is of course fairly easy..."
   ]
  },
  {
   "cell_type": "code",
   "execution_count": 1,
   "id": "2a67169c",
   "metadata": {},
   "outputs": [],
   "source": [
    "import turtle"
   ]
  },
  {
   "cell_type": "markdown",
   "id": "c7dd3ff5",
   "metadata": {},
   "source": [
    "## The Screen object\n",
    "`Screen()` is a function that creates and returns a Turtle Screen object. The `Screen` object is a top-level object in the turtle library, and represents the drawing window or canvas where turtle graphics are displayed.\n",
    "\n",
    "The `Screen` object provides a number of methods and attributes that allow you to customize the drawing window, such as setting the window size, title, and background color, and controlling whether or not the turtle is visible."
   ]
  },
  {
   "cell_type": "code",
   "execution_count": 2,
   "id": "984f2082",
   "metadata": {},
   "outputs": [],
   "source": [
    "# create a Turtle Screen object\n",
    "screen = turtle.Screen()\n",
    "\n",
    "# set the window title and background color\n",
    "screen.title(\"My Turtle Graphics\")\n",
    "screen.bgcolor(\"white\")"
   ]
  },
  {
   "cell_type": "markdown",
   "id": "d18e4117",
   "metadata": {},
   "source": [
    "## Create a Turtle object\n",
    "In the code below we use a for loop, to create a very square."
   ]
  },
  {
   "cell_type": "code",
   "execution_count": 3,
   "id": "7cff5284",
   "metadata": {},
   "outputs": [],
   "source": [
    "# create a turtle object\n",
    "turtle_1 = turtle.Turtle()\n",
    "\n",
    "# draw a square\n",
    "for i in range(4):\n",
    "    turtle_1.forward(100)\n",
    "    turtle_1.right(90)"
   ]
  },
  {
   "cell_type": "markdown",
   "id": "95758e92",
   "metadata": {},
   "source": [
    "### User defined functions\n",
    "Now lets create a simple user defined function to operate on our turtle to draw colored squares... "
   ]
  },
  {
   "cell_type": "code",
   "execution_count": 4,
   "id": "a42c2743",
   "metadata": {},
   "outputs": [],
   "source": [
    "# ---function to draw colored squares with the global turtle turtle_1 # \n",
    "def draw_square(size,color):\n",
    "    turtle_1.hideturtle()\n",
    "    turtle_1.penup()\n",
    "    turtle_1.goto(-size/2,size/2)\n",
    "    turtle_1.pencolor(color)\n",
    "    turtle_1.pendown()\n",
    "    turtle_1.pensize(4)\n",
    "   \n",
    "    for i in range(4):\n",
    "        turtle_1.forward(size)\n",
    "        turtle_1.right(90)"
   ]
  },
  {
   "cell_type": "markdown",
   "id": "86125912",
   "metadata": {},
   "source": [
    "### Set our colors"
   ]
  },
  {
   "cell_type": "code",
   "execution_count": 5,
   "id": "766c5012",
   "metadata": {},
   "outputs": [],
   "source": [
    "colors=[\"red\", \"orange\", \"yellow\", \"green\", \"blue\"]"
   ]
  },
  {
   "cell_type": "markdown",
   "id": "f7262c08",
   "metadata": {},
   "source": [
    "### Call our user defined function five times, using different colors and sizes"
   ]
  },
  {
   "cell_type": "code",
   "execution_count": 6,
   "id": "8710eb71",
   "metadata": {},
   "outputs": [],
   "source": [
    "# ---Call to function with a for loop--- # \n",
    "for i in range(6):\n",
    "    draw_square(i * 100, colors[i-1])"
   ]
  },
  {
   "cell_type": "markdown",
   "id": "8be61e69",
   "metadata": {},
   "source": [
    "### Close the screen\n",
    "Make sure to call a function on the Screen Object that enables closing the window:\n",
    "`screen exitonclick()` or `screen.mainloop` are good candidates for this."
   ]
  },
  {
   "cell_type": "code",
   "execution_count": 7,
   "id": "6c37bb5f",
   "metadata": {},
   "outputs": [],
   "source": [
    "# This function keeps the window open until the user closes it\n",
    "screen.mainloop()"
   ]
  },
  {
   "cell_type": "markdown",
   "id": "952a9ed8",
   "metadata": {},
   "source": [
    "## The Project\n",
    "\n",
    "Create a turtle application that meets the following minimum requirements:\n",
    "- makes use of at least two different control structures (branching, loops, etc.)\n",
    "- makes use of logical data-structures like lists, tuples, set and dictionaries  (For example: you can create list to hold all turtles, or you can use data-structures to hold other application data)\n",
    "- makes use of at least two additional modules / libraries\n",
    "- makes use of at least two user-defined functions \n",
    "- code is well-documented with comments and the coding style is consistent\n",
    "\n",
    "### Bonus requirements\n",
    "The following are some of the bonus requirements that are set for the turtle application\n",
    "- has some form of user interaction (like a game)\n",
    "- make use of advanced programming structures (like list comprehensions, lamda’s, etc.)\n",
    "- represents real data structures (like json, csv, etc.)\n",
    "- makes use of own user-defined modules (modular code)\n",
    "- has a realistic use-case / is useful \n",
    "\n",
    "### Time line\n",
    "- **Step 1 (60 min)**: Research the turtle libraries and its full capabilities. Use the REPL  / interactive interpreter to do some experimentation with all the available methods and properties\n",
    "- **Step 2 (60 min)**: Share your knowledge in your team and perform a brainstorm of possible ideas for your turtle application based on the research in step 1. Make sure your final idea meets the minimum requirements\n",
    "- **Step 3 (30 min)**: Break down your idea into parts and write pseudo code. Divide the coding tasks in your group.\n",
    "- **Step 4 (90 min)**:  Code the different parts of your turtle application and the test the results\n",
    "\n",
    "Good luck!"
   ]
  }
 ],
 "metadata": {
  "kernelspec": {
   "display_name": "Python 3 (ipykernel)",
   "language": "python",
   "name": "python3"
  },
  "language_info": {
   "codemirror_mode": {
    "name": "ipython",
    "version": 3
   },
   "file_extension": ".py",
   "mimetype": "text/x-python",
   "name": "python",
   "nbconvert_exporter": "python",
   "pygments_lexer": "ipython3",
   "version": "3.10.8"
  }
 },
 "nbformat": 4,
 "nbformat_minor": 5
}
